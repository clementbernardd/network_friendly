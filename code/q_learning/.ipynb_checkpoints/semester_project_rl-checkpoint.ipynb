{
 "cells": [
  {
   "cell_type": "markdown",
   "metadata": {},
   "source": [
    "# REINFORCEMENT LEARNING PROJECT "
   ]
  },
  {
   "cell_type": "code",
   "execution_count": 7,
   "metadata": {},
   "outputs": [],
   "source": [
    "# Importations\n",
    "\n",
    "import numpy as np\n",
    "import random\n",
    "import matplotlib.pyplot as plt\n",
    "import pandas as pd\n",
    "from IPython.display import clear_output\n",
    "from tqdm import tqdm\n",
    "import copy\n",
    "import time\n",
    "from matplotlib import colors\n",
    "from mpl_toolkits.axes_grid1 import make_axes_locatable\n",
    "from scipy.io import loadmat\n",
    "import tensorflow as tf\n",
    "from collections import deque, namedtuple\n",
    "from tensorflow.keras import Model, Sequential, Input\n",
    "from tensorflow.keras.layers import Dense, Embedding, Reshape, Flatten\n",
    "from tensorflow.keras.optimizers import Adam\n",
    "import pickle\n",
    "import tensorflow.compat.v1 as tf\n",
    "tf.disable_v2_behavior()\n",
    "\n"
   ]
  },
  {
   "cell_type": "markdown",
   "metadata": {},
   "source": [
    "## Define the Plot functions and the ones used for initialisation\n"
   ]
  },
  {
   "cell_type": "code",
   "execution_count": 99,
   "metadata": {},
   "outputs": [],
   "source": [
    "\n",
    "def creation_u(n_states) :\n",
    "    # Creates a matrix u of related content\n",
    "    u = np.array([ [random.uniform(0,1) for i in range(n_states)] for j in range(n_states)])\n",
    "    np.fill_diagonal(u, 0)\n",
    "\n",
    "    return np.array(u)\n",
    "\n",
    "def creation_caching(n_states, n_cached) :\n",
    "    # Returns a list which contains the cost to get a content\n",
    "    # It contains only 0 (cached) or 1 (non-cached)\n",
    "    cost = np.array([1 for i in range(n_states)])\n",
    "    index = list(random.sample(range(0, n_states), n_cached))\n",
    "    for x in index :\n",
    "        cost[x] = 0\n",
    "    return np.array(cost)\n",
    "\n",
    "\n",
    "def create_priori_popularity(n_states,uniform = True) :\n",
    "    # It creates a list of probability to get the content\n",
    "    # This is p_0 = [ p_0, ..., p_K-1]\n",
    "    # The sum should be one\n",
    "    if uniform : \n",
    "        result = (1/n_states) * np.ones((1,n_states))[0]\n",
    "    else :\n",
    "        result = [random.random() for i in range(1,n_states)]\n",
    "        sum_r = np.sum(result)\n",
    "        result = [i/sum_r for i in result]\n",
    "        result = np.array(result)\n",
    "    return result\n",
    "\n",
    "\n",
    "def get_random_state(p0) :\n",
    "    # Returns a random content among the contents\n",
    "    state = [i for i in range(len(p0))]\n",
    "    \n",
    "    return np.random.choice(state,1,p0[0])[0]\n",
    "\n",
    "def get_recommended(state,n_recommended,u) :\n",
    "    # Returns the n_recommended content of the content 'state'\n",
    "    # For the moment we only return the most related contents\n",
    "    liste = u[state]\n",
    "    not_null = len(np.where(liste != 0)[0])\n",
    "    indx = (-liste).argsort()[:min(not_null, n_recommended)]\n",
    "    return np.array(indx)\n",
    "\n",
    "def get_cached(state, cost):\n",
    "    # Takes as input a state and the cost matrix (where Xi = 0 if cached and 1 if not-cached)\n",
    "    # Returns a boolean which says whether or not it is cached or not\n",
    "    return cost[state] == 0\n",
    "\n",
    "\n",
    "def running_mean(x, N):\n",
    "    # Compute the running mean of size N\n",
    "\n",
    "    mask=np.ones((1,N))/N\n",
    "    mask=mask[0,:]\n",
    "    result = np.convolve(x,mask,'same')\n",
    "\n",
    "    return result\n",
    "\n",
    "\n",
    "\n",
    "def plot_q_table(q_table) :\n",
    "    # Plot the q_table \n",
    "    ax = plt.subplot(111)\n",
    "    im = ax.imshow(q_table)\n",
    "\n",
    "    divider = make_axes_locatable(ax)\n",
    "    cax = divider.append_axes(\"right\", size=\"5%\", pad=0.05)\n",
    "    plt.ylabel(\"States\")\n",
    "    plt.xlabel(\"Actions\")\n",
    "    plt.title(\"Q table\")\n",
    "    plt.colorbar(im, cax=cax)\n",
    "\n",
    "    plt.show()\n",
    "\n",
    "\n",
    "def get_q_table_gamma(gamma_q_tables, gammas) :\n",
    "    liste_title = ['Gamma = {:.2f}'.format(i) for i in gammas]\n",
    "    plot_multiple(gamma_q_tables,4,3, \"Actions\", \"States\",\\\n",
    "                           \"Q table for different values of gamma\" ,\\\n",
    "                       liste_titles= liste_title,sizes = (10,10))\n",
    "\n",
    "def get_matrix_rewards(env) :\n",
    "    # Compute the reward for each state and action\n",
    "    q_table = np.zeros((env.n_states,env.n_actions))\n",
    "    index_cached = np.where(env.get_index_cached() == 0)[0]\n",
    "    index_recommended = env.get_index_recommendation()\n",
    "    q_table[:,index_cached] += 1\n",
    "    for index,x in enumerate(index_recommended) :\n",
    "        q_table[index][x] +=1\n",
    "\n",
    "    return q_table\n",
    "\n",
    "\n",
    "def plot_multiple(matrices,Nr,Nc, x_label, y_label,title, liste_titles,sizes = (12,12), cmap = 'viridis') :\n",
    "    \n",
    "\n",
    "    fig, axs = plt.subplots(Nr, Nc, figsize=sizes)\n",
    "    fig.suptitle(title)\n",
    "\n",
    "    images = []\n",
    "    \n",
    "    axs = axs.reshape(-1,1)\n",
    "    \n",
    "    for k,ax in enumerate(axs) : \n",
    "        images.append(ax[0].imshow(matrices[k], cmap=cmap))\n",
    "        ax[0].label_outer()\n",
    "        ax[0].set_xlabel(x_label)\n",
    "        ax[0].set_ylabel(y_label)\n",
    "        ax[0].set_title(liste_titles[k], fontsize = 12)\n",
    "            \n",
    "\n",
    "    vmin = 0\n",
    "    vmax = 2\n",
    "    norm = colors.Normalize(vmin=vmin, vmax=vmax)\n",
    "    for im in images:\n",
    "        im.set_norm(norm)\n",
    "\n",
    "    fig.colorbar(images[0], ax=axs, orientation='horizontal', fraction=.05)\n",
    "    plt.show()\n",
    "\n",
    "\n",
    "\n",
    "def get_q_table_gamma(gamma_q_tables, gammas) :\n",
    "    liste_title = ['Gamma = {:.2f}'.format(i) for i in gammas]\n",
    "    plot_multiple(gamma_q_tables,4,3, \"Actions\", \"States\",\\\n",
    "                           \"Q table for different values of gamma\" ,\\\n",
    "                       liste_titles= liste_title,sizes = (10,10))\n",
    "\n",
    "def get_final_table(q_table, binary = True) :\n",
    "    # Retuns the final recommendation which is the policy\n",
    "    indexes_max = get_max_q_table(q_table)\n",
    "    final_table = np.zeros(q_table.shape)\n",
    "    for index,x in enumerate(indexes_max) :\n",
    "        for y in x:\n",
    "            if binary :\n",
    "                final_table[index,y ] = 1\n",
    "            else :\n",
    "                final_table[index,y ] = q_table[index,y ]\n",
    "\n",
    "\n",
    "    return final_table\n",
    "\n",
    "\n",
    "    \n",
    "def compare_algo(env, q_table, policy, cmap, name=None ) :\n",
    "    \n",
    "    final_table = get_final_table(q_table, binary = True)\n",
    "    \n",
    "    \n",
    "    to_plot = [policy,final_table, get_matrix_rewards(env),\\\n",
    "              policy + final_table]\n",
    "    titles = [\"Policy with paper algorithm\",\"Policy with RL algorithm\", 'Reward matrix','Sum of two policies']\n",
    "    plot_multiple(to_plot, 2,2, \"Actions\", \"States\",\"\", titles,sizes = (8,8), cmap=cmap)\n",
    "    similarity = np.where(policy + final_table == 2 )[0].shape[0]/ q_table.shape[0]\n",
    "    print(\"Similarity between Paper algorithm and RL algorithm : {}\".format(similarity))\n",
    "    \n",
    "    \n",
    "    \n",
    "def get_max_q_table(q_table) :\n",
    "    # Returns a list of indexes of the max of the q_table\n",
    "    liste_index = []\n",
    "    for i in range(q_table.shape[0]) :\n",
    "        maxm = np.max(q_table[i])\n",
    "        indexes = np.where(q_table[i] == maxm)[0]\n",
    "        liste_index.append(indexes)\n",
    "\n",
    "    return liste_index\n",
    "\n"
   ]
  },
  {
   "cell_type": "markdown",
   "metadata": {},
   "source": [
    "## The environment "
   ]
  },
  {
   "cell_type": "code",
   "execution_count": 62,
   "metadata": {},
   "outputs": [],
   "source": [
    "\n",
    "class Environment(object) :\n",
    "    # Creates an environmnent\n",
    "    # For us, this is the behavior of the User\n",
    "    def __init__(self,n_actions,  n_states, alpha, to_leave, n_recommended, n_cached,\\\n",
    "                rewards,SEED=5, u=None) :\n",
    "        self.SEED = SEED\n",
    "        self.n_states = n_states\n",
    "        self.n_actions = n_actions\n",
    "        self.alpha = alpha\n",
    "        # Alpha is the coefficient in which a user chooses a recommended content\n",
    "        self.to_leave = to_leave\n",
    "        # to_leave is the coefficient in which a user decides to quit the process\n",
    "        #self.state = np.array([i for i in range(n_states)])\n",
    "        self.n_recommended = n_recommended\n",
    "        # n_recommend corresponds to the number of content to recommend. HERE, WE DON'T USE IT YET\n",
    "        self.n_cached = n_cached\n",
    "        # n_cached correponds to the number of cached content\n",
    "        #self.index_recommended = create_matrix_u(self.n_states,self.n_actions,self.n_recommended)\n",
    "        #self.index_cached = create_matrix_u(self.n_states,self.n_actions,self.n_cached)\n",
    "        self.u = creation_u(self.n_states) if u is None else u  \n",
    "        # U matrix which denotes the similarity score\n",
    "        self.cost = creation_caching(self.n_states, self.n_cached)\n",
    "        # It denotes the cached content (0 if cached, 1 not-cached)\n",
    "        self.p0 = create_priori_popularity(self.n_states)\n",
    "        # The probability to choose content j from the catalogue\n",
    "        self.rewards = rewards\n",
    "        # List of rewards like [RC, RnC , nRC, nRnC]\n",
    "        # RC = Recommended & Cached ; nRnC = non Recommended & non Cached\n",
    "        self.recommended = self.get_index_recommendation()\n",
    "        \n",
    "    def refresh(self,SEED = None) :\n",
    "        # Reset the state to a new value\n",
    "        if SEED is not None :\n",
    "            self.SEED = SEED\n",
    "        return random.randrange(0,self.n_states,1)\n",
    "    \n",
    "    def reset(self) :\n",
    "        # Reset the environment to a new random state. \n",
    "        #It resets both the recommendation and the cached indexes\n",
    "        # It returns a first state\n",
    "        self.u = creation_u(self.n_states)\n",
    "        self.cached = creation_caching(self.n_states, self.n_cached)\n",
    "        self.p0 = create_priori_popularity(self.n_states)\n",
    "    \n",
    "        return self.state[random.randrange(0,self.n_states,1)]\n",
    "\n",
    "    \n",
    "    \n",
    "    def find_reward(self, action,state) :\n",
    "        # Finds the reward for the given action starting in the given state \n",
    "        # It tests whether the state is recommended, cached or not\n",
    "        \n",
    "        # It gives from the u matrix whether the action from the state is recommended or not\n",
    "        if ((state is None) or (action is None) ):\n",
    "            return None\n",
    "        \n",
    "        recommended_matrix = self.recommended[state]\n",
    "        is_cached = get_cached(action, self.cost)\n",
    "        \n",
    "        if ( (action in recommended_matrix) and (is_cached)) :\n",
    "            # Content recommended and cached : best reward\n",
    "            return self.rewards[0]\n",
    "        elif ( (action in recommended_matrix) and ( not is_cached) ) :\n",
    "            # Content recommended but not cached\n",
    "            return self.rewards[1]\n",
    "        elif ( (action not in recommended_matrix ) and (is_cached)) :\n",
    "            # Content not recommended but cached\n",
    "            return self.rewards[2]\n",
    "        else :\n",
    "            # Content neither recommended nor cached\n",
    "            return self.rewards[3]\n",
    "    \n",
    "    \n",
    "    def step(self, action,state) :\n",
    "        # Returns the state, reward after taking the action in input\n",
    "        # done is a boolean to say whether the user quits the game or not\n",
    "        # We want to return the state where will be the user when we suggest him \"action\"\n",
    "        # Knowing he is in the current 'state'\n",
    "\n",
    "        if (random.uniform(0, 1) < self.to_leave) :\n",
    "            # The user stops to play\n",
    "            reward = self.find_reward(action,state)\n",
    "            new_state,reward, done = None,reward,True\n",
    "            return new_state,reward, done\n",
    "        else :\n",
    "\n",
    "            # Else the user will choose among the contents\n",
    "            if (random.uniform(0,1)< self.alpha ) :\n",
    "\n",
    "                # Then the user chooses a content among the recommended contentss\n",
    "                new_state = action\n",
    "                reward = self.find_reward(action,state)\n",
    "            else :\n",
    "                # The user picks a content randomly in the catalogue\n",
    "\n",
    "                new_state = get_random_state(self.p0)\n",
    "                reward = self.find_reward(action,state)\n",
    "\n",
    "\n",
    "            done = False\n",
    "\n",
    "        if (action == state ) :\n",
    "            return self.step(action, state)\n",
    "        else :\n",
    "            return new_state, reward, done\n",
    "    \n",
    "    def get_index_recommendation(self) :\n",
    "        # Returns a matrix with all index of recommended content\n",
    "        recommended = []\n",
    "        for state in range(self.n_actions) :\n",
    "            recommended.append(get_recommended(state,self.n_recommended,self.u))\n",
    "        return recommended\n",
    "    \n",
    "    def get_index_cached(self) :\n",
    "        \n",
    "        return self.cost\n",
    "    \n"
   ]
  },
  {
   "cell_type": "markdown",
   "metadata": {},
   "source": [
    "# Q learning algorithm \n"
   ]
  },
  {
   "cell_type": "code",
   "execution_count": 63,
   "metadata": {},
   "outputs": [],
   "source": [
    "def q_learning(env,alpha,gamma,epsilon,max_iter,v1=True, threshold = 0.1) :\n",
    "\n",
    "    # Alpha : learning rate\n",
    "    # Gamma : Long-term reward\n",
    "    # Epsilon-greedy : do we exploit or explore\n",
    "    # Max_iter : the number of episode maximum\n",
    "    # v1 : If true, no restriction on the contents we search. Otherwise, just search among the related contents \n",
    "    \n",
    "    \"\"\"Training the agent\"\"\"\n",
    "    # Initialisation of the q_table\n",
    "    q_table = np.zeros([env.n_states, env.n_actions])\n",
    "    \n",
    "    # For plotting metrics\n",
    "    q_table_diff = []\n",
    "    max_diff = threshold + 1\n",
    "    i=0\n",
    "    \n",
    "    before_time = time.time()\n",
    "    while( (i < max_iter) and (max_diff > threshold)) :\n",
    "        # We copy the first step of the table to compare at the end\n",
    "        before_q = copy.copy(q_table)\n",
    "\n",
    "        # Initialize the state\n",
    "        state = env.refresh()\n",
    "        # Initialization of the variables\n",
    "        # Penalties aims to show how will evolve the average reward through the process\n",
    "        epochs= 0\n",
    "\n",
    "        # The boolean which says whether the process is done or not\n",
    "        done = False\n",
    "        \n",
    "        while not done :\n",
    "\n",
    "            if random.uniform(0, 1) < epsilon:\n",
    "                # Explore action space\n",
    "                if v1 :\n",
    "                    action = random.randint(0,env.n_actions-1)\n",
    "                else :\n",
    "                    recommended_contents =  env.recommended[state]\n",
    "                    index_state = random.randrange(0,len(recommended_contents),1)\n",
    "                    action = recommended_contents[index_state]           \n",
    "            else :\n",
    "                # Exploit learned values\n",
    "                action = np.argmax(q_table[state])\n",
    "               \n",
    "            # Go to the next state\n",
    "            next_state, reward, done = env.step(action,state)\n",
    "\n",
    "            if ( (next_state is None) or (action is None)  ) :\n",
    "                # We stop when the user leaves the process\n",
    "                break\n",
    "\n",
    "            old_value = q_table[state, action]\n",
    "            next_max = np.max(q_table[next_state])\n",
    "\n",
    "            # Q learning algorithm\n",
    "\n",
    "            new_value = (1- alpha)* old_value + alpha * (reward + gamma * next_max)\n",
    "            q_table[state,action] = new_value\n",
    "            # Just compute the penalty by hand to see how well is our decision\n",
    "\n",
    "            # Go to the next state\n",
    "            state = next_state\n",
    "            epochs +=1\n",
    "                \n",
    "        i+=1\n",
    "        \n",
    "        q_table_diff.append((q_table - before_q).max()    )\n",
    "\n",
    "        if i%1000 == 0 :\n",
    "            max_diff =  np.mean(q_table_diff) \n",
    "            q_table_diff = []\n",
    "            \n",
    "        if i%10000 == 0 :\n",
    "            \n",
    "            print('Episode : {}'.format(i))\n",
    "            clear_output(True)\n",
    "        \n",
    "    \n",
    "    time_train =  time.time() - before_time\n",
    "    return (1-gamma) * q_table, time_train, i\n"
   ]
  },
  {
   "cell_type": "markdown",
   "metadata": {},
   "source": [
    "### Exemple of use "
   ]
  },
  {
   "cell_type": "code",
   "execution_count": 64,
   "metadata": {},
   "outputs": [],
   "source": [
    "# Load the environment \n",
    "with open('./utils/env.pickle', 'rb') as f:\n",
    "    env = pickle.load(f)\n"
   ]
  },
  {
   "cell_type": "code",
   "execution_count": 65,
   "metadata": {},
   "outputs": [],
   "source": [
    "# env = Environment(n_actions=100,n_states=100,alpha=0.6, to_leave=0.1, n_recommended=10,\\\n",
    "#                  n_cached=20,rewards=[10,5,5,-5],SEED=77)"
   ]
  },
  {
   "cell_type": "code",
   "execution_count": 66,
   "metadata": {},
   "outputs": [
    {
     "name": "stdout",
     "output_type": "stream",
     "text": [
      "Episode : 20000\n"
     ]
    }
   ],
   "source": [
    "q_table, time_train , epoch = q_learning(env,alpha=0.6 ,gamma = 0,\\\n",
    "                                                    epsilon=0.1,max_iter = 100000,v1=True, threshold = 0.005)"
   ]
  },
  {
   "cell_type": "code",
   "execution_count": 67,
   "metadata": {},
   "outputs": [],
   "source": [
    "q_table_constraints, time_train_constraints , epoch_constraints = q_learning(env,alpha=0.6 ,gamma = 0,\\\n",
    "                                                    epsilon=0.1,max_iter = 100000,v1=False, threshold = 0.005)"
   ]
  },
  {
   "cell_type": "markdown",
   "metadata": {},
   "source": [
    "#### Plot the q_table "
   ]
  },
  {
   "cell_type": "code",
   "execution_count": 68,
   "metadata": {},
   "outputs": [
    {
     "data": {
      "image/png": "[encoded data removed]",
      "text/plain": [
       "<Figure size 432x288 with 2 Axes>"
      ]
     },
     "metadata": {
      "needs_background": "light"
     },
     "output_type": "display_data"
    },
    {
     "name": "stdout",
     "output_type": "stream",
     "text": [
      "Time to converge : 6.0746588706970215 s\n",
      "Number of epochs : 20000 \n"
     ]
    }
   ],
   "source": [
    "# No constraints\n",
    "plot_q_table(q_table)\n",
    "print('Time to converge : {} s\\nNumber of epochs : {} '.format(time_train,epoch))"
   ]
  },
  {
   "cell_type": "code",
   "execution_count": 69,
   "metadata": {},
   "outputs": [
    {
     "data": {
      "image/png": "[encoded data removed]",
      "text/plain": [
       "<Figure size 432x288 with 2 Axes>"
      ]
     },
     "metadata": {
      "needs_background": "light"
     },
     "output_type": "display_data"
    },
    {
     "name": "stdout",
     "output_type": "stream",
     "text": [
      "Time to converge : 2.0527427196502686 s\n",
      "Number of epochs : 7000 \n"
     ]
    }
   ],
   "source": [
    "plot_q_table(q_table_constraints)\n",
    "print('Time to converge : {} s\\nNumber of epochs : {} '.format(time_train_constraints,epoch_constraints))"
   ]
  },
  {
   "cell_type": "markdown",
   "metadata": {},
   "source": [
    "#### Plot the reward matrix "
   ]
  },
  {
   "cell_type": "markdown",
   "metadata": {},
   "source": [
    "The reward matrix is just the matrix tha summarises the reward whenever the value is related or cached"
   ]
  },
  {
   "cell_type": "markdown",
   "metadata": {},
   "source": [
    "Whenever this is cyan : related or cached\n",
    "\n",
    "Whenever this is yellow : related and cached\n",
    "\n",
    "\n",
    "Otherwise : neither recommended not cached"
   ]
  },
  {
   "cell_type": "code",
   "execution_count": 70,
   "metadata": {},
   "outputs": [
    {
     "data": {
      "image/png": "[encoded data removed]",
      "text/plain": [
       "<Figure size 432x288 with 2 Axes>"
      ]
     },
     "metadata": {
      "needs_background": "light"
     },
     "output_type": "display_data"
    }
   ],
   "source": [
    "plot_q_table(get_matrix_rewards(env))"
   ]
  },
  {
   "cell_type": "markdown",
   "metadata": {},
   "source": [
    "### Check the results for different values of gamma  "
   ]
  },
  {
   "cell_type": "code",
   "execution_count": 71,
   "metadata": {},
   "outputs": [],
   "source": [
    "def loop_gamma(gammas, max_iter_g,v1=True, env = None) :\n",
    "    # Run the q_learning algorithm for different values of gammas\n",
    "    gamma_q_tables = []\n",
    "    if env is None : \n",
    "        env = Environment(n_actions=50,n_states=50,alpha=0.6, to_leave=0.1, n_recommended=10,\\\n",
    "                 n_cached=10,rewards=[10,5,5,-5],SEED=777)\n",
    "        \n",
    "    for gamma in gammas :\n",
    "        q_table, _,_ = q_learning(env,alpha = 0.2,gamma = gamma ,\\\n",
    "                                    epsilon = 0.1,max_iter = max_iter_g,v1=v1,threshold = 0.005)\n",
    "        gamma_q_tables.append(q_table)\n",
    "\n",
    "    return gamma_q_tables"
   ]
  },
  {
   "cell_type": "code",
   "execution_count": 72,
   "metadata": {},
   "outputs": [],
   "source": [
    "gammas = [0,0.9]"
   ]
  },
  {
   "cell_type": "markdown",
   "metadata": {},
   "source": [
    "### 1. Algorithm without any constraints on the recommendation"
   ]
  },
  {
   "cell_type": "code",
   "execution_count": 73,
   "metadata": {},
   "outputs": [
    {
     "name": "stdout",
     "output_type": "stream",
     "text": [
      "Episode : 100000\n"
     ]
    }
   ],
   "source": [
    "gamma_q_tables = loop_gamma(gammas, max_iter_g = 100000, env = env)"
   ]
  },
  {
   "cell_type": "code",
   "execution_count": 74,
   "metadata": {},
   "outputs": [],
   "source": [
    "def get_q_table_gamma(gamma_q_tables, gammas) :\n",
    "    liste_title = ['Gamma = {:.2f}'.format(i) for i in gammas]\n",
    "    plot_multiple(gamma_q_tables,1,2, \"Actions\", \"States\",\\\n",
    "\n",
    "                  \"Q table for different values of gamma\" ,\\\n",
    "                       liste_titles= liste_title,sizes = (20,10))"
   ]
  },
  {
   "cell_type": "code",
   "execution_count": 75,
   "metadata": {},
   "outputs": [
    {
     "data": {
      "image/png": "[encoded data removed]",
      "text/plain": [
       "<Figure size 1440x720 with 3 Axes>"
      ]
     },
     "metadata": {
      "needs_background": "light"
     },
     "output_type": "display_data"
    }
   ],
   "source": [
    "# Q tables for different values of gammas WITHOUT CONSTRAINTS\n",
    "get_q_table_gamma(gamma_q_tables, gammas) "
   ]
  },
  {
   "cell_type": "markdown",
   "metadata": {},
   "source": [
    "### 2. Algorithm with constraints on the recommendation"
   ]
  },
  {
   "cell_type": "code",
   "execution_count": 76,
   "metadata": {},
   "outputs": [
    {
     "name": "stdout",
     "output_type": "stream",
     "text": [
      "Episode : 100000\n"
     ]
    }
   ],
   "source": [
    "gamma_q_tables_constraints = loop_gamma(gammas, max_iter_g = 100000, v1=False, env=env)"
   ]
  },
  {
   "cell_type": "code",
   "execution_count": 77,
   "metadata": {},
   "outputs": [
    {
     "data": {
      "image/png": "[encoded data removed]",
      "text/plain": [
       "<Figure size 1440x720 with 3 Axes>"
      ]
     },
     "metadata": {
      "needs_background": "light"
     },
     "output_type": "display_data"
    }
   ],
   "source": [
    "get_q_table_gamma(gamma_q_tables_constraints, gammas) "
   ]
  },
  {
   "cell_type": "markdown",
   "metadata": {},
   "source": [
    "## Criteria of convergence "
   ]
  },
  {
   "cell_type": "markdown",
   "metadata": {},
   "source": [
    "Note : we check the criteria of convergence of our algorithm.\n",
    "To do so, we modify few lines of the previous code to see the evolution of our criteria : The max difference of q_table through the episodes/epochs"
   ]
  },
  {
   "cell_type": "markdown",
   "metadata": {},
   "source": [
    "### Plot the Max difference of q table and the running mean "
   ]
  },
  {
   "cell_type": "code",
   "execution_count": 80,
   "metadata": {},
   "outputs": [
    {
     "data": {
      "image/png": "[encoded data removed]",
      "text/plain": [
       "<Figure size 432x288 with 1 Axes>"
      ]
     },
     "metadata": {
      "needs_background": "light"
     },
     "output_type": "display_data"
    }
   ],
   "source": [
    "\n",
    "\n",
    "plt.plot(q_table_diff, color ='b', label='Constraint algorithm')\n",
    "plt.plot(running_mean(q_table_diff,1000), color ='r', label='Running mean (size of 1000)')\n",
    "\n",
    "plt.xlabel('Epoch')\n",
    "plt.ylabel('Max error of q_table')\n",
    "plt.title('Convergence of max error of q_table')\n",
    "plt.legend()\n",
    "plt.grid(True)\n",
    "plt.show()\n",
    "\n",
    "\n",
    "\n"
   ]
  },
  {
   "cell_type": "markdown",
   "metadata": {},
   "source": [
    "# Rewards and Penalties"
   ]
  },
  {
   "cell_type": "code",
   "execution_count": 245,
   "metadata": {},
   "outputs": [],
   "source": [
    "def q_learning_rew(env,alpha,gamma,epsilon,max_iter,v1=True, threshold = 0.1) :\n",
    "\n",
    "    # Alpha : learning rate\n",
    "    # Gamma : Long-term reward\n",
    "    # Epsilon-greedy : do we exploit or explore\n",
    "    # v1 : Constraints or no on the related contents to recommend\n",
    "    # threshold : threshold to ensure the convergence\n",
    "    # Initialisation of the q_table\n",
    "    q_table = np.zeros([env.n_states, env.n_actions])\n",
    "    \n",
    "    # For plotting metrics\n",
    "    q_table_diff = []\n",
    "    max_diff = threshold + 1\n",
    "    i=0\n",
    "    \n",
    "    all_penalties , all_rewards = [],[]\n",
    "    \n",
    "    while( (i < max_iter) and (max_diff > threshold)) :\n",
    "        # We copy the first step of the table to compare at the end\n",
    "        before_q = copy.copy(q_table)\n",
    "\n",
    "        # Initialize the state\n",
    "        state = env.refresh()\n",
    "        # Initialization of the variables\n",
    "        # Penalties aims to show how will evolve the average reward through the process\n",
    "        epochs= 0\n",
    "        current_reward = 0\n",
    "        current_penalty = 0\n",
    "        # The boolean which says whether the process is done or not\n",
    "        done = False\n",
    "        \n",
    "        while not done :\n",
    "\n",
    "            if random.uniform(0, 1) < epsilon:\n",
    "                # Explore action space\n",
    "                if v1 :\n",
    "                    action = random.randint(0,env.n_actions-1)\n",
    "                else :\n",
    "                    recommended_contents =  env.recommended[state]\n",
    "                    index_state = random.randrange(0,len(recommended_contents),1)\n",
    "                    action = recommended_contents[index_state]           \n",
    "            else :\n",
    "                # Exploit learned values\n",
    "                action = np.argmax(q_table[state])\n",
    "               \n",
    "            # Go to the next state\n",
    "            next_state, reward, done = env.step(action,state)\n",
    "\n",
    "            if ( (next_state is None) or (action is None)  ) :\n",
    "                # We stop when the user leaves the process\n",
    "                break\n",
    "\n",
    "            old_value = q_table[state, action]\n",
    "            next_max = np.max(q_table[next_state])\n",
    "\n",
    "            # Q learning algorithm\n",
    "\n",
    "            new_value = (1- alpha)* old_value + alpha * (reward + gamma * next_max)\n",
    "            q_table[state,action] = new_value\n",
    "            # Just compute the penalty by hand to see how well is our decision\n",
    "\n",
    "            # Go to the next state\n",
    "            state = next_state\n",
    "            epochs +=1\n",
    "            current_reward += reward\n",
    "            if reward == env.rewards[-1] : \n",
    "                current_penalty +=1\n",
    "        \n",
    "                \n",
    "        i+=1\n",
    "        \n",
    "        q_table_diff.append((q_table - before_q).max()    )\n",
    "        all_penalties.append(current_penalty)\n",
    "        all_rewards.append(current_reward)\n",
    "        \n",
    "        if i%1000 == 0 :\n",
    "            max_diff =  np.mean(q_table_diff) \n",
    "            q_table_diff = []\n",
    "            \n",
    "        \n",
    "            \n",
    "        if i%10000 == 0 :\n",
    "            \n",
    "            print('Episode : {}'.format(i))\n",
    "            clear_output(True)\n",
    "        \n",
    "    \n",
    "    return (1-gamma) * q_table, all_rewards, all_penalties"
   ]
  },
  {
   "cell_type": "code",
   "execution_count": 278,
   "metadata": {},
   "outputs": [],
   "source": [
    "def loop_gamma_rew_pen(gammas,alpha,epsilon,max_iter, v1, threshold) : \n",
    "    \n",
    "    rewards, penalties = [],[]\n",
    "    \n",
    "    env = Environment(n_actions=50,n_states=50,alpha=0.6, to_leave=0.1, n_recommended=5,\\\n",
    "                 n_cached=10,rewards=[2,1,1,0],SEED=777)\n",
    "    \n",
    "    for gamma in gammas : \n",
    "        \n",
    "        _,rew,pen = q_learning_rew(env,alpha,gamma,epsilon,max_iter,v1, threshold )\n",
    "        rewards.append(rew)\n",
    "        penalties.append(pen)\n",
    "        \n",
    "    return rewards,penalties\n",
    "    "
   ]
  },
  {
   "cell_type": "code",
   "execution_count": 284,
   "metadata": {},
   "outputs": [
    {
     "name": "stdout",
     "output_type": "stream",
     "text": [
      "Episode : 100000\n"
     ]
    }
   ],
   "source": [
    "reward_gamma, penalty_gamma = loop_gamma_rew_pen(gammas,alpha=0.2,epsilon=0.1,max_iter=100000,\\\n",
    "                                                 v1=True, threshold=1e-7)"
   ]
  },
  {
   "cell_type": "code",
   "execution_count": 285,
   "metadata": {},
   "outputs": [],
   "source": [
    "def running_mean(x, N):\n",
    "    cumsum = np.cumsum(np.insert(x, 0, 0)) \n",
    "    return (cumsum[N:] - cumsum[:-N]) / N"
   ]
  },
  {
   "cell_type": "code",
   "execution_count": 286,
   "metadata": {},
   "outputs": [],
   "source": [
    "def plot_reward_loss_gamma(reward,run_mean = 10, gammas = [0,0.9],name='Rewards') :\n",
    "    # Reward : list of rewards\n",
    "    # Gammas : list of gammas used\n",
    "    # Run_mean : size of the window to average\n",
    "    \n",
    "    colors = ['r','b']\n",
    "    \n",
    "    for index, gamma in enumerate(gammas) : \n",
    "        \n",
    "        smoothed_rews = running_mean(reward[index], run_mean)\n",
    "        \n",
    "        \n",
    "        plt.xlabel('Epochs')\n",
    "        plt.ylabel(name)\n",
    "        plt.plot(smoothed_rews, color=colors[index],\\\n",
    "                label = r'$\\gamma$ = {}, running mean : {}'.format(gamma,run_mean))\n",
    "        \n",
    "        \n",
    "    plt.legend()\n",
    "    plt.title('{} for different values of $\\gamma$'.format(name))\n",
    "    plt.grid(True)\n",
    "    plt.show()\n",
    "        "
   ]
  },
  {
   "cell_type": "code",
   "execution_count": 287,
   "metadata": {},
   "outputs": [
    {
     "data": {
      "image/png": "[encoded data removed]",
      "text/plain": [
       "<Figure size 432x288 with 1 Axes>"
      ]
     },
     "metadata": {
      "needs_background": "light"
     },
     "output_type": "display_data"
    }
   ],
   "source": [
    "plot_reward_loss_gamma(reward_gamma,run_mean = 2000, gammas = [0,0.9],name = 'Rewards')"
   ]
  },
  {
   "cell_type": "code",
   "execution_count": 288,
   "metadata": {},
   "outputs": [
    {
     "data": {
      "image/png": "[encoded data removed]",
      "text/plain": [
       "<Figure size 432x288 with 1 Axes>"
      ]
     },
     "metadata": {
      "needs_background": "light"
     },
     "output_type": "display_data"
    }
   ],
   "source": [
    "plot_reward_loss_gamma(penalty_gamma,run_mean = 2000, gammas = [0,0.9],name = 'Penalties')"
   ]
  },
  {
   "cell_type": "markdown",
   "metadata": {},
   "source": [
    "# Comparison with a well known user"
   ]
  },
  {
   "cell_type": "markdown",
   "metadata": {},
   "source": [
    "### We load the policy and u matrix from Theo's user"
   ]
  },
  {
   "cell_type": "code",
   "execution_count": 289,
   "metadata": {},
   "outputs": [],
   "source": [
    "# Load the data \n",
    "annots = loadmat('utils/sim.mat')\n",
    "# Get the u matrix and the policy \n",
    "u = annots['relations_matrix']\n",
    "\n",
    "policy = annots['policy']\n",
    "\n",
    "\n"
   ]
  },
  {
   "cell_type": "markdown",
   "metadata": {},
   "source": [
    "We change the step function to a user that chooses to consum the content j given the state i with probability : \n",
    "$$ \\frac{u_{i,j}}{max(u_i)}  $$"
   ]
  },
  {
   "cell_type": "code",
   "execution_count": 290,
   "metadata": {},
   "outputs": [],
   "source": [
    "\n",
    "class Environment_bis(object) :\n",
    "    # Creates an environmnent\n",
    "    # For us, this is the behavior of the User\n",
    "    def __init__(self,n_actions,  n_states, alpha, to_leave, n_recommended, n_cached,\\\n",
    "                rewards,SEED=5, cost = None , u=None) :\n",
    "        self.SEED = SEED\n",
    "        self.n_states = n_states\n",
    "        self.n_actions = n_actions\n",
    "        self.alpha = alpha\n",
    "        # Alpha is the coefficient in which a user chooses a recommended content\n",
    "        self.to_leave = to_leave\n",
    "        # to_leave is the coefficient in which a user decides to quit the process\n",
    "        #self.state = np.array([i for i in range(n_states)])\n",
    "        self.n_recommended = n_recommended\n",
    "        # n_recommend corresponds to the number of content to recommend. HERE, WE DON'T USE IT YET\n",
    "        self.n_cached = n_cached\n",
    "        # n_cached correponds to the number of cached content\n",
    "        #self.index_recommended = create_matrix_u(self.n_states,self.n_actions,self.n_recommended)\n",
    "        #self.index_cached = create_matrix_u(self.n_states,self.n_actions,self.n_cached)\n",
    "        self.u = creation_u(self.n_states) if u is None else u  \n",
    "        # U matrix which denotes the similarity score\n",
    "        self.cost = creation_caching(self.n_states, self.n_cached) if cost is None else cost\n",
    "        # It denotes the cached content (0 if cached, 1 not-cached)\n",
    "        self.p0 = create_priori_popularity(self.n_states)\n",
    "        # The probability to choose content j from the catalogue\n",
    "        self.rewards = rewards\n",
    "        # List of rewards like [RnC , nRC, nRnC]\n",
    "        # RC = Recommended & Cached ; nRnC = non Recommended & non Cached\n",
    "        self.recommended = self.get_index_recommendation()\n",
    "        \n",
    "    def refresh(self,SEED = None) :\n",
    "        # Reset the state to a new value\n",
    "        if SEED is not None :\n",
    "            self.SEED = SEED\n",
    "        return random.randrange(0,self.n_states,1)\n",
    "    \n",
    "    def reset(self) :\n",
    "        # Reset the environment to a new random state. \n",
    "        #It resets both the recommendation and the cached indexes\n",
    "        # It returns a first state\n",
    "        self.u = creation_u(self.n_states)\n",
    "        self.cached = creation_caching(self.n_states, self.n_cached)\n",
    "        self.p0 = create_priori_popularity(self.n_states)\n",
    "    \n",
    "        return self.state[random.randrange(0,self.n_states,1)]\n",
    "\n",
    "    \n",
    "    \n",
    "    def find_reward(self, action,state) :\n",
    "        # Finds the reward for the given action starting in the given state \n",
    "        # It tests whether the state is recommended, cached or not\n",
    "        \n",
    "        # It gives from the u matrix whether the action from the state is recommended or not\n",
    "        if ((state is None) or (action is None) ):\n",
    "            return None\n",
    "        \n",
    "        recommended_matrix = self.recommended[state]\n",
    "        is_cached = get_cached(action, self.cost)\n",
    "        \n",
    "        if ( (action in recommended_matrix) and (is_cached)) :\n",
    "            # Content recommended and cached : best reward\n",
    "            return self.rewards[0]\n",
    "        elif ( (action in recommended_matrix) and ( not is_cached) ) :\n",
    "            # Content recommended but not cached\n",
    "            return self.rewards[1]\n",
    "        elif ( (action not in recommended_matrix ) and (is_cached)) :\n",
    "            # Content not recommended but cached\n",
    "            return self.rewards[2]\n",
    "        else :\n",
    "            # Content neither recommended nor cached\n",
    "            return self.rewards[3]\n",
    "    \n",
    "    \n",
    "    def step(self, action,state) :\n",
    "        # Custom step : the user follows the recommendation with a probability uij / max(ui)\n",
    "        \n",
    "        if (random.uniform(0, 1) < self.to_leave) :\n",
    "            # The user stops to play\n",
    "            reward = 1 if action in [0,1,2] else 0\n",
    "\n",
    "            new_state,done = None,True\n",
    "            return new_state,reward, done\n",
    "        else :\n",
    "            \n",
    "            alpha = self.u[state,action] / np.max(self.u[state,:])\n",
    "            \n",
    "            # Else the user will choose among the contents\n",
    "            if (random.uniform(0,1)< alpha ) :\n",
    "                \n",
    "                # Then the user chooses a content among the recommended contentss\n",
    "                new_state = action\n",
    "                reward = 1 if action in [0,1,2] else 0\n",
    "            else :\n",
    "                # The user picks a content randomly in the catalogue\n",
    "                \n",
    "                new_state = get_random_state(self.p0) \n",
    "#                 reward = self.find_reward(action,new_state)\n",
    "                reward = 1 if new_state in [0,1,2] else 0\n",
    "                \n",
    "            done = False\n",
    "            \n",
    "        if (action == state ) : \n",
    "            return self.step(action, state)\n",
    "        else : \n",
    "            \n",
    "            return new_state, reward, done\n",
    "    \n",
    "    def get_index_recommendation(self) :\n",
    "        # Returns a matrix with all index of recommended content\n",
    "        recommended = []\n",
    "        for state in range(self.n_actions) :\n",
    "            recommended.append(get_recommended(state,self.n_recommended,self.u))\n",
    "        return recommended\n",
    "    \n",
    "    def get_index_cached(self) :\n",
    "        \n",
    "        return self.cost\n",
    "    "
   ]
  },
  {
   "cell_type": "code",
   "execution_count": 291,
   "metadata": {},
   "outputs": [],
   "source": [
    "# Create the cost : for this user, the 5 first contents are cached\n",
    "\n",
    "cost = [1 for i in range(30)]\n",
    "cost[:3] = [0,0,0]"
   ]
  },
  {
   "cell_type": "code",
   "execution_count": 292,
   "metadata": {},
   "outputs": [],
   "source": [
    "# p0 uniformaly \n",
    "p0 = (1/30 * np.ones(30))"
   ]
  },
  {
   "cell_type": "code",
   "execution_count": 293,
   "metadata": {},
   "outputs": [],
   "source": [
    "# Create the two environments\n",
    "env = Environment_bis(n_actions=30,n_states=30,alpha=None, to_leave=0.01, n_recommended=30,\\\n",
    "                 n_cached=3,rewards=[1,0,1,0],SEED=77, u=u)\n"
   ]
  },
  {
   "cell_type": "code",
   "execution_count": 294,
   "metadata": {},
   "outputs": [],
   "source": [
    "# Set the cost and p0 of the environment to the one of the paper\n",
    "env.cost = cost\n",
    "env.p0 = p0\n"
   ]
  },
  {
   "cell_type": "code",
   "execution_count": 299,
   "metadata": {},
   "outputs": [
    {
     "name": "stdout",
     "output_type": "stream",
     "text": [
      "Episode : 50000\n"
     ]
    }
   ],
   "source": [
    "# Compute the q_table for experience 1 and 2\n",
    "\n",
    "\n",
    "q_table ,_,_ = q_learning(env=env,alpha=0.1,gamma=0.99,epsilon=0.1,max_iter = 50000,\\\n",
    "                             v1=False, threshold = 1e-4)\n"
   ]
  },
  {
   "cell_type": "code",
   "execution_count": 300,
   "metadata": {},
   "outputs": [
    {
     "data": {
      "image/png": "[encoded data removed]",
      "text/plain": [
       "<Figure size 576x576 with 5 Axes>"
      ]
     },
     "metadata": {
      "needs_background": "light"
     },
     "output_type": "display_data"
    },
    {
     "name": "stdout",
     "output_type": "stream",
     "text": [
      "Similarity between Paper algorithm and RL algorithm : 0.9333333333333333\n"
     ]
    }
   ],
   "source": [
    "compare_algo(env, q_table, policy,cmap='viridis' )"
   ]
  },
  {
   "cell_type": "code",
   "execution_count": 301,
   "metadata": {},
   "outputs": [
    {
     "data": {
      "image/png": "[encoded data removed]",
      "text/plain": [
       "<Figure size 432x288 with 2 Axes>"
      ]
     },
     "metadata": {
      "needs_background": "light"
     },
     "output_type": "display_data"
    }
   ],
   "source": [
    "plot_q_table(get_final_table(q_table) + policy)"
   ]
  },
  {
   "cell_type": "code",
   "execution_count": null,
   "metadata": {},
   "outputs": [],
   "source": []
  }
 ],
 "metadata": {
  "kernelspec": {
   "display_name": "Python 3",
   "language": "python",
   "name": "python3"
  },
  "language_info": {
   "codemirror_mode": {
    "name": "ipython",
    "version": 3
   },
   "file_extension": ".py",
   "mimetype": "text/x-python",
   "name": "python",
   "nbconvert_exporter": "python",
   "pygments_lexer": "ipython3",
   "version": "3.7.7"
  }
 },
 "nbformat": 4,
 "nbformat_minor": 2
}
